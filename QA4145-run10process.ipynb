{
 "cells": [
  {
   "cell_type": "markdown",
   "id": "aaed7b39-e90c-4a3a-b09f-7b827bbd1f19",
   "metadata": {},
   "source": [
    "# TigerGraph Data Science Library 101 - Classification Algorithm\n",
    "This notebook shows the examples of using the most common classification algorithms in TigerGraph Graph Science Library. More detailed explanations of these algorithms can be found in the official documentation (https://docs.tigergraph.com/graph-ml/current/classification-algorithms/).\n",
    "\n",
    "\n",
    "## Step1: Setting things up\n",
    "- Connect and Load data\n",
    "- Visualize the graph schema \n",
    "- Get basic stats, e.g., counts of nodes & edges"
   ]
  },
  {
   "cell_type": "markdown",
   "id": "11c2b6c3-c501-48d1-877c-6b46cf46f0e9",
   "metadata": {},
   "source": [
    "### Create connection"
   ]
  },
  {
   "cell_type": "code",
   "execution_count": 19,
   "id": "adb48891-b5cb-4660-9c61-6c1c61d1f89b",
   "metadata": {},
   "outputs": [],
   "source": [
    "import json\n",
    "import pandas as pd\n",
    "from pyTigerGraph import TigerGraphConnection\n",
    "\n",
    "# Read in DB configs\n",
    "with open('../config.json', \"r\") as config_file:\n",
    "    config = json.load(config_file)\n",
    "\n",
    "conn = TigerGraphConnection(\n",
    "    host=config[\"host\"],\n",
    "    username=config[\"username\"],\n",
    "    password=config[\"password\"],\n",
    ")"
   ]
  },
  {
   "cell_type": "markdown",
   "id": "320ff330-d943-42f4-a4ab-7d5a03edc338",
   "metadata": {},
   "source": [
    "### Download movie dataset"
   ]
  },
  {
   "cell_type": "code",
   "execution_count": 20,
   "id": "72857d04-626a-4e79-9815-3f71fe1d2a16",
   "metadata": {},
   "outputs": [
    {
     "name": "stdout",
     "output_type": "stream",
     "text": [
      "A folder with name movie already exists in ./tmp. Skip downloading.\n"
     ]
    }
   ],
   "source": [
    "from pyTigerGraph.datasets import Datasets\n",
    "\n",
    "dataset_movie = Datasets(\"movie\")"
   ]
  },
  {
   "cell_type": "markdown",
   "id": "2b6d458c-effe-498a-bd62-eb17acadc77e",
   "metadata": {},
   "source": [
    "### Ingest data"
   ]
  },
  {
   "cell_type": "code",
   "execution_count": 21,
   "id": "5163ed31-a11b-462a-9739-04068ab4980c",
   "metadata": {},
   "outputs": [
    {
     "name": "stdout",
     "output_type": "stream",
     "text": [
      "---- Checking database ----\n",
      "A graph with name movie already exists in the database. Skip ingestion.\n"
     ]
    }
   ],
   "source": [
    "from pyTigerGraph.visualization import drawSchema\n",
    "\n",
    "conn.ingestDataset(dataset_movie, getToken=config[\"getToken\"])"
   ]
  },
  {
   "cell_type": "markdown",
   "id": "214cc67b-8fd1-4e94-8673-ba6f18239381",
   "metadata": {},
   "source": [
    "### Visualize schema"
   ]
  },
  {
   "cell_type": "code",
   "execution_count": 22,
   "id": "b69b0e67-d7e6-4727-9c66-0c3e74adbe54",
   "metadata": {},
   "outputs": [
    {
     "data": {
      "application/vnd.jupyter.widget-view+json": {
       "model_id": "bb5806287bb04d3480a972bb34077fd4",
       "version_major": 2,
       "version_minor": 0
      },
      "text/plain": [
       "CytoscapeWidget(cytoscape_layout={'name': 'circle', 'animate': True, 'padding': 1}, cytoscape_style=[{'selecto…"
      ]
     },
     "execution_count": 22,
     "metadata": {},
     "output_type": "execute_result"
    }
   ],
   "source": [
    "drawSchema(conn.getSchema(force=True))"
   ]
  },
  {
   "cell_type": "markdown",
   "id": "340d88d3-4487-4054-86f8-6a68be98d260",
   "metadata": {},
   "source": [
    "### Print graph stats"
   ]
  },
  {
   "cell_type": "code",
   "execution_count": 23,
   "id": "1fbf8481-09a0-4c19-a6e7-963888476b78",
   "metadata": {},
   "outputs": [
    {
     "name": "stdout",
     "output_type": "stream",
     "text": [
      "Node count: (Person : 7) \n",
      "Node count: (Movie : 9) \n",
      "Total node count:  16\n"
     ]
    }
   ],
   "source": [
    "vertices = conn.getVertexTypes()\n",
    "total_count = 0\n",
    "for vertex in vertices:\n",
    "    vertex_cnt = conn.getVertexCount(vertex)\n",
    "    total_count += vertex_cnt\n",
    "    print(\"Node count: ({} : {}) \".format(vertex, vertex_cnt))\n",
    "print(\"Total node count: \", total_count)"
   ]
  },
  {
   "cell_type": "code",
   "execution_count": 24,
   "id": "9a45cb56-989b-47dc-bb0b-49044e769340",
   "metadata": {},
   "outputs": [
    {
     "name": "stdout",
     "output_type": "stream",
     "text": [
      "Edges count: total  42\n",
      "{'Likes': 15, 'Similarity': 12, 'reverse_Likes': 15}\n"
     ]
    }
   ],
   "source": [
    "import pprint\n",
    "edge_count = conn.getEdgeCount()\n",
    "print(\"Edges count: total \", sum(edge_count.values()))\n",
    "pprint.pprint(edge_count) "
   ]
  },
  {
   "cell_type": "code",
   "execution_count": 25,
   "id": "ca1699c6-cae2-441c-8e84-cde9e9e433db",
   "metadata": {},
   "outputs": [],
   "source": [
    "feat = conn.gds.featurizer()"
   ]
  },
  {
   "cell_type": "code",
   "execution_count": 26,
   "id": "dfe0f392-5e7b-48bf-af41-684e8135cb79",
   "metadata": {},
   "outputs": [
    {
     "name": "stdout",
     "output_type": "stream",
     "text": [
      "process(4) finished, Results:[\n",
      " {\n",
      "  \"@@correct_rate_list\": [\n",
      "   0.25,\n",
      "   0.25,\n",
      "   0.25,\n",
      "   0.25\n",
      "  ]\n",
      " },\n",
      " {\n",
      "  \"best_k\": 2\n",
      " }\n",
      "]\n",
      "\n",
      "process(0) finished, Results:[\n",
      " {\n",
      "  \"@@correct_rate_list\": [\n",
      "   0.25,\n",
      "   0.25,\n",
      "   0.25,\n",
      "   0.25\n",
      "  ]\n",
      " },\n",
      " {\n",
      "  \"best_k\": 2\n",
      " }\n",
      "]\n",
      "\n",
      "process(5) finished, Results:[\n",
      " {\n",
      "  \"@@correct_rate_list\": [\n",
      "   0.25,\n",
      "   0.25,\n",
      "   0.25,\n",
      "   0.25\n",
      "  ]\n",
      " },\n",
      " {\n",
      "  \"best_k\": 2\n",
      " }\n",
      "]\n",
      "\n",
      "\n",
      "\n",
      "\n",
      "process(6) finished, Results:[\n",
      " {\n",
      "  \"@@correct_rate_list\": [\n",
      "   0.25,\n",
      "   0.25,\n",
      "   0.25,\n",
      "   0.25\n",
      "  ]\n",
      " },\n",
      " {\n",
      "  \"best_k\": 2\n",
      " }\n",
      "]\n",
      "\n",
      "\n",
      "process(8) finished, Results:[\n",
      " {\n",
      "  \"@@correct_rate_list\": [\n",
      "   0.25,\n",
      "   0.25,\n",
      "   0.25,\n",
      "   0.25\n",
      "  ]\n",
      " },\n",
      " {\n",
      "  \"best_k\": 2\n",
      " }\n",
      "]\n",
      "\n",
      "process(2) finished, Results:[\n",
      " {\n",
      "  \"@@correct_rate_list\": [\n",
      "   0.25,\n",
      "   0.25,\n",
      "   0.25,\n",
      "   0.25\n",
      "  ]\n",
      " },\n",
      " {\n",
      "  \"best_k\": 2\n",
      " }\n",
      "]\n",
      "\n",
      "\n",
      "\n",
      "process(3) finished, Results:[\n",
      " {\n",
      "  \"@@correct_rate_list\": [\n",
      "   0.25,\n",
      "   0.25,\n",
      "   0.25,\n",
      "   0.25\n",
      "  ]\n",
      " },\n",
      " {\n",
      "  \"best_k\": 2\n",
      " }\n",
      "]\n",
      "\n",
      "\n",
      "process(9) finished, Results:[\n",
      " {\n",
      "  \"@@correct_rate_list\": [\n",
      "   0.25,\n",
      "   0.25,\n",
      "   0.25,\n",
      "   0.25\n",
      "  ]\n",
      " },\n",
      " {\n",
      "  \"best_k\": 2\n",
      " }\n",
      "]\n",
      "\n",
      "process(7) finished, Results:[\n",
      " {\n",
      "  \"@@correct_rate_list\": [\n",
      "   0.25,\n",
      "   0.25,\n",
      "   0.25,\n",
      "   0.25\n",
      "  ]\n",
      " },\n",
      " {\n",
      "  \"best_k\": 2\n",
      " }\n",
      "]\n",
      "\n",
      "\n",
      "\n",
      "process(1) finished, Results:[\n",
      " {\n",
      "  \"@@correct_rate_list\": [\n",
      "   0.25,\n",
      "   0.25,\n",
      "   0.25,\n",
      "   0.25\n",
      "  ]\n",
      " },\n",
      " {\n",
      "  \"best_k\": 2\n",
      " }\n",
      "]\n",
      "\n",
      "\n",
      "original multiprocessing num:10, and success job num:10\n",
      "check success status:True\n"
     ]
    }
   ],
   "source": [
    "import multiprocessing \n",
    "\n",
    "\n",
    "# install the algo first\n",
    "feat.installAlgorithm(\"tg_knn_cosine_cv\")\n",
    "\n",
    "# define a runAlgorithm for a installed algo\n",
    "def run_tg_knn_cosine_cv(process_id, process_return):\n",
    "    params = {\n",
    "        \"v_type_set\": [\"Person\"],\n",
    "        \"e_type_set\": [\"Likes\"],\n",
    "        \"reverse_e_type_set\": [\"reverse_Likes\"],\n",
    "        \"weight_attribute\": \"weight\",\n",
    "        \"label\": \"known_label\",\n",
    "        \"min_k\": 2,\n",
    "        \"max_k\": 5\n",
    "    }\n",
    "\n",
    "    asyncFeaturizerResult = feat.runAlgorithm(\"tg_knn_cosine_cv\", params=params, runAsync=True)\n",
    "    if asyncFeaturizerResult.wait():\n",
    "        results = asyncFeaturizerResult.results\n",
    "        y = json.dumps(results, indent = 1)\n",
    "        print(\"process({}) finished, Results:{}\\n\\n\".format(process_id, y))\n",
    "        if y:\n",
    "            process_return.put(True)\n",
    "        else:\n",
    "            process_return.put(False)\n",
    "\n",
    "multiprocessing_num = 10        \n",
    "jobs = []\n",
    "process_returns = multiprocessing.Queue()\n",
    "for i in range(multiprocessing_num):\n",
    "    p = multiprocessing.Process(target=run_tg_knn_cosine_cv, args=(i, process_returns))\n",
    "    jobs.append(p)\n",
    "    p.start()\n",
    "\n",
    "#collect return\n",
    "for j in jobs:\n",
    "    j.join()\n",
    "\n",
    "#get process_returns \n",
    "process_results = [process_returns.get() for j in jobs]\n",
    "\n",
    "print(\"original multiprocessing num:{}, and success job num:{}\".format(multiprocessing_num,sum(process_results)))\n",
    "print(\"check success status:{}\".format(multiprocessing_num==sum(process_results)))"
   ]
  }
 ],
 "metadata": {
  "kernelspec": {
   "display_name": "PyTorch",
   "language": "python",
   "name": "python3"
  },
  "language_info": {
   "codemirror_mode": {
    "name": "ipython",
    "version": 3
   },
   "file_extension": ".py",
   "mimetype": "text/x-python",
   "name": "python",
   "nbconvert_exporter": "python",
   "pygments_lexer": "ipython3",
   "version": "3.9.15"
  }
 },
 "nbformat": 4,
 "nbformat_minor": 5
}
